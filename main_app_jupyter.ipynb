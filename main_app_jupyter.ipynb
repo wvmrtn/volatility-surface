{
 "cells": [
  {
   "cell_type": "code",
   "execution_count": 4,
   "metadata": {},
   "outputs": [],
   "source": [
    "#from jupyter_dash import JupyterDash\n",
    "from jupyter_plotly_dash import JupyterDash\n",
    "from volatility_surface import _DEBUG, PORT\n",
    "from volatility_surface import MainPage"
   ]
  },
  {
   "cell_type": "code",
   "execution_count": 5,
   "metadata": {},
   "outputs": [],
   "source": [
    "app = JupyterDash(__name__,)#external_stylesheets = ['https://codepen.io/wvmrtn/pen/GRpvLOM.css'])\n",
    "# serve css from codepen\n",
    "#app.config['suppress_callback_exceptions'] = True\n",
    "app.title = 'surface-volatility'    \n",
    "\n",
    "main_page = MainPage(app)\n",
    "app.layout = main_page.layout\n",
    "\n",
    "# handle different versions of dash across different operating systems\n",
    "#try:\n",
    "#    app.run_server(debug = _DEBUG, port = PORT, mode = 'inline')\n",
    "#except:\n",
    "#    app.run_server(debug = not _DEBUG, port = PORT, mode = 'inline')"
   ]
  },
  {
   "cell_type": "code",
   "execution_count": 6,
   "metadata": {},
   "outputs": [
    {
     "data": {
      "text/html": [
       "<div>\n",
       "  <iframe src=\"/app/endpoints/45f2691dd071465fa424be8f2bc5b507/\" width=800 height=600 frameborder=\"0\"></iframe>\n",
       "  <hr/><a href=\"/app/endpoints/45f2691dd071465fa424be8f2bc5b507/\" target=\"_new\">Open in new window</a> for /app/endpoints/45f2691dd071465fa424be8f2bc5b507/\n",
       "</div>"
      ],
      "text/plain": [
       "<jupyter_plotly_dash.dash_wrapper.JupyterDash at 0x1a26d8c3d0>"
      ]
     },
     "execution_count": 6,
     "metadata": {},
     "output_type": "execute_result"
    }
   ],
   "source": [
    "app"
   ]
  },
  {
   "cell_type": "code",
   "execution_count": null,
   "metadata": {},
   "outputs": [],
   "source": []
  }
 ],
 "metadata": {
  "kernelspec": {
   "display_name": "Python 3",
   "language": "python",
   "name": "python3"
  },
  "language_info": {
   "codemirror_mode": {
    "name": "ipython",
    "version": 3
   },
   "file_extension": ".py",
   "mimetype": "text/x-python",
   "name": "python",
   "nbconvert_exporter": "python",
   "pygments_lexer": "ipython3",
   "version": "3.7.7"
  }
 },
 "nbformat": 4,
 "nbformat_minor": 4
}
