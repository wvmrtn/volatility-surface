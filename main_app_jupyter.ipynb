{
 "cells": [
  {
   "cell_type": "code",
   "execution_count": 1,
   "metadata": {},
   "outputs": [],
   "source": [
    "import jupyterlab_dash\n",
    "import dash\n",
    "from volatility_surface import _DEBUG, PORT\n",
    "from volatility_surface import MainPage"
   ]
  },
  {
   "cell_type": "code",
   "execution_count": 2,
   "metadata": {},
   "outputs": [],
   "source": [
    "viewer = jupyterlab_dash.AppViewer()"
   ]
  },
  {
   "cell_type": "code",
   "execution_count": 3,
   "metadata": {},
   "outputs": [],
   "source": [
    "app = dash.Dash(__name__, external_stylesheets = ['https://codepen.io/wvmrtn/pen/GRpvLOM.css'])\n",
    "app.config['suppress_callback_exceptions'] = True\n",
    "app.title = 'surface-volatility'\n",
    "main_page = MainPage(app)\n",
    "app.layout = main_page.layout    "
   ]
  },
  {
   "cell_type": "code",
   "execution_count": 4,
   "metadata": {},
   "outputs": [
    {
     "name": "stderr",
     "output_type": "stream",
     "text": [
      "Exception in thread Thread-54:\n",
      "Traceback (most recent call last):\n",
      "  File \"/Users/williammartin/anaconda3/envs/epfl/lib/python3.7/threading.py\", line 926, in _bootstrap_inner\n",
      "    self.run()\n",
      "  File \"/Users/williammartin/anaconda3/envs/epfl/lib/python3.7/threading.py\", line 1177, in run\n",
      "    self.function(*self.args, **self.kwargs)\n",
      "  File \"/Users/williammartin/anaconda3/envs/epfl/lib/python3.7/site-packages/jupyterlab_dash/__init__.py\", line 71, in _perform_show\n",
      "    \"\"\")\n",
      "OSError: \n",
      "Unable to communicate with the jupyterlab-dash JupyterLab extension.\n",
      "Is this Python kernel running inside JupyterLab with the jupyterlab-dash\n",
      "extension installed?\n",
      "\n",
      "You can install the extension with:\n",
      "\n",
      "$ jupyter labextension install jupyterlab-dash\n",
      "\n",
      "\n"
     ]
    }
   ],
   "source": [
    "viewer.show(app)"
   ]
  },
  {
   "cell_type": "code",
   "execution_count": null,
   "metadata": {},
   "outputs": [],
   "source": [
    "    "
   ]
  }
 ],
 "metadata": {
  "kernelspec": {
   "display_name": "Python 3",
   "language": "python",
   "name": "python3"
  },
  "language_info": {
   "codemirror_mode": {
    "name": "ipython",
    "version": 3
   },
   "file_extension": ".py",
   "mimetype": "text/x-python",
   "name": "python",
   "nbconvert_exporter": "python",
   "pygments_lexer": "ipython3",
   "version": "3.7.7"
  }
 },
 "nbformat": 4,
 "nbformat_minor": 4
}
