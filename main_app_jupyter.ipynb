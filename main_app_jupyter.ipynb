{
 "cells": [
  {
   "cell_type": "code",
   "execution_count": 1,
   "metadata": {},
   "outputs": [],
   "source": [
    "from jupyter_dash import JupyterDash\n",
    "from volatility_surface import _DEBUG, PORT\n",
    "from volatility_surface import MainPage"
   ]
  },
  {
   "cell_type": "code",
   "execution_count": 2,
   "metadata": {},
   "outputs": [
    {
     "name": "stderr",
     "output_type": "stream",
     "text": [
      " * Running on http://127.0.0.1:8050/ (Press CTRL+C to quit)\n",
      "127.0.0.1 - - [23/May/2020 13:50:53] \"\u001b[37mGET /_alive_91074168-8971-402e-9a4a-72fa0d39d304 HTTP/1.1\u001b[0m\" 200 -\n"
     ]
    },
    {
     "data": {
      "text/html": [
       "\n",
       "        <iframe\n",
       "            width=\"800\"\n",
       "            height=\"650\"\n",
       "            src=\"http://127.0.0.1:8050/\"\n",
       "            frameborder=\"0\"\n",
       "            allowfullscreen\n",
       "        ></iframe>\n",
       "        "
      ],
      "text/plain": [
       "<IPython.lib.display.IFrame at 0x1a177bc210>"
      ]
     },
     "metadata": {},
     "output_type": "display_data"
    },
    {
     "name": "stderr",
     "output_type": "stream",
     "text": [
      "127.0.0.1 - - [23/May/2020 13:50:53] \"\u001b[37mGET /_dash-component-suites/dash_renderer/react@16.13.0.min.js?v=1.3.0&m=1590231550 HTTP/1.1\u001b[0m\" 200 -\n",
      "127.0.0.1 - - [23/May/2020 13:50:53] \"\u001b[37mGET / HTTP/1.1\u001b[0m\" 200 -\n",
      "127.0.0.1 - - [23/May/2020 13:50:53] \"\u001b[37mGET /_dash-component-suites/dash_renderer/prop-types@15.7.2.min.js?v=1.3.0&m=1590231550 HTTP/1.1\u001b[0m\" 200 -\n",
      "127.0.0.1 - - [23/May/2020 13:50:53] \"\u001b[37mGET /_dash-component-suites/dash_renderer/polyfill@7.8.7.min.js?v=1.3.0&m=1590231550 HTTP/1.1\u001b[0m\" 200 -\n",
      "127.0.0.1 - - [23/May/2020 13:50:53] \"\u001b[37mGET /_dash-component-suites/dash_renderer/react-dom@16.13.0.min.js?v=1.3.0&m=1590231550 HTTP/1.1\u001b[0m\" 200 -\n",
      "127.0.0.1 - - [23/May/2020 13:50:53] \"\u001b[37mGET /_dash-component-suites/dash_core_components/async-dropdown.js?v=1.9.0&m=1590231558 HTTP/1.1\u001b[0m\" 200 -\n",
      "127.0.0.1 - - [23/May/2020 13:50:53] \"\u001b[37mGET /_dash-component-suites/dash_core_components/async-datepicker.js?v=1.9.0&m=1590231558 HTTP/1.1\u001b[0m\" 200 -\n",
      "127.0.0.1 - - [23/May/2020 13:50:53] \"\u001b[37mGET /_dash-component-suites/dash_core_components/async-graph.js?v=1.9.0&m=1590231558 HTTP/1.1\u001b[0m\" 200 -\n",
      "127.0.0.1 - - [23/May/2020 13:50:53] \"\u001b[37mGET /_dash-component-suites/dash_core_components/async-highlight.js?v=1.9.0&m=1590231558 HTTP/1.1\u001b[0m\" 200 -\n",
      "127.0.0.1 - - [23/May/2020 13:50:53] \"\u001b[37mGET /_dash-component-suites/dash_core_components/async-slider.js?v=1.9.0&m=1590231558 HTTP/1.1\u001b[0m\" 200 -\n",
      "127.0.0.1 - - [23/May/2020 13:50:53] \"\u001b[37mGET /_dash-component-suites/dash_core_components/async-upload.js?v=1.9.0&m=1590231558 HTTP/1.1\u001b[0m\" 200 -\n",
      "127.0.0.1 - - [23/May/2020 13:50:53] \"\u001b[37mGET /_dash-component-suites/dash_core_components/dash_core_components-shared.js?v=1.9.0&m=1590231558 HTTP/1.1\u001b[0m\" 200 -\n",
      "127.0.0.1 - - [23/May/2020 13:50:53] \"\u001b[37mGET /_dash-component-suites/dash_core_components/dash_core_components.min.js?v=1.9.0&m=1590231558 HTTP/1.1\u001b[0m\" 200 -\n",
      "127.0.0.1 - - [23/May/2020 13:50:53] \"\u001b[37mGET /_dash-component-suites/dash_html_components/dash_html_components.min.js?v=1.0.1&m=1576596177 HTTP/1.1\u001b[0m\" 200 -\n",
      "127.0.0.1 - - [23/May/2020 13:50:54] \"\u001b[37mGET /_dash-component-suites/dash_renderer/dash_renderer.min.js?v=1.3.0&m=1590231550 HTTP/1.1\u001b[0m\" 200 -\n",
      "127.0.0.1 - - [23/May/2020 13:50:54] \"\u001b[37mGET /_dash-component-suites/dash_core_components/async-markdown.js?v=1.9.0&m=1590231558 HTTP/1.1\u001b[0m\" 200 -\n",
      "127.0.0.1 - - [23/May/2020 13:50:54] \"\u001b[37mGET /_dash-component-suites/dash_core_components/plotly.min.js?v=1.9.0&m=1590231558 HTTP/1.1\u001b[0m\" 200 -\n",
      "127.0.0.1 - - [23/May/2020 13:50:54] \"\u001b[37mGET /_dash-component-suites/dash_core_components/async-plotlyjs.js?v=1.9.0&m=1590231558 HTTP/1.1\u001b[0m\" 200 -\n",
      "127.0.0.1 - - [23/May/2020 13:50:54] \"\u001b[37mGET /_dash-layout HTTP/1.1\u001b[0m\" 200 -\n",
      "127.0.0.1 - - [23/May/2020 13:50:54] \"\u001b[37mGET /_dash-dependencies HTTP/1.1\u001b[0m\" 200 -\n",
      "127.0.0.1 - - [23/May/2020 13:50:54] \"\u001b[37mPOST /_dash-update-component HTTP/1.1\u001b[0m\" 200 -\n",
      "127.0.0.1 - - [23/May/2020 13:50:54] \"\u001b[37mPOST /_dash-update-component HTTP/1.1\u001b[0m\" 200 -\n"
     ]
    }
   ],
   "source": [
    "app = JupyterDash(__name__, external_stylesheets = ['https://codepen.io/wvmrtn/pen/GRpvLOM.css'])\n",
    "# serve css from codepen\n",
    "app.config['suppress_callback_exceptions'] = True\n",
    "app.title = 'surface-volatility'    \n",
    "\n",
    "main_page = MainPage(app)\n",
    "app.layout = main_page.layout\n",
    "\n",
    "# handle different versions of dash across different operating systems\n",
    "try:\n",
    "    app.run_server(debug = _DEBUG, port = PORT, mode = 'inline')\n",
    "except:\n",
    "    app.run_server(debug = not _DEBUG, port = PORT, mode = 'inline')"
   ]
  }
 ],
 "metadata": {
  "kernelspec": {
   "display_name": "Python 3",
   "language": "python",
   "name": "python3"
  },
  "language_info": {
   "codemirror_mode": {
    "name": "ipython",
    "version": 3
   },
   "file_extension": ".py",
   "mimetype": "text/x-python",
   "name": "python",
   "nbconvert_exporter": "python",
   "pygments_lexer": "ipython3",
   "version": "3.7.7"
  }
 },
 "nbformat": 4,
 "nbformat_minor": 4
}
